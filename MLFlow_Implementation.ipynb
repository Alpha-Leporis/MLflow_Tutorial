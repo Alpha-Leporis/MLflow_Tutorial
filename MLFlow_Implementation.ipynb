{
 "cells": [
  {
   "cell_type": "code",
   "execution_count": 1,
   "id": "a399ad5b",
   "metadata": {},
   "outputs": [],
   "source": [
    "import os\n",
    "import argparse\n",
    "import pandas as pd\n",
    "import numpy as np\n",
    "from sklearn.metrics import mean_squared_error, mean_absolute_error, r2_score\n",
    "from sklearn.model_selection import train_test_split\n",
    "from sklearn.linear_model import ElasticNet\n",
    "from urllib.parse import urlparse\n",
    "import mlflow\n",
    "import mlflow.sklearn"
   ]
  },
  {
   "cell_type": "code",
   "execution_count": 2,
   "id": "ab79a0a4",
   "metadata": {},
   "outputs": [
    {
     "name": "stderr",
     "output_type": "stream",
     "text": [
      "2024/04/12 18:30:10 INFO mlflow.tracking.fluent: Experiment with name 'Red-Wine-Quality' does not exist. Creating a new experiment.\n"
     ]
    },
    {
     "data": {
      "text/plain": [
       "<Experiment: artifact_location='file:///c:/Users/demon/Desktop/projects/MLflow/mlruns/1', creation_time=1712926810483, experiment_id='1', last_update_time=1712926810483, lifecycle_stage='active', name='Red-Wine-Quality', tags={}>"
      ]
     },
     "execution_count": 2,
     "metadata": {},
     "output_type": "execute_result"
    }
   ],
   "source": [
    "#mlflow server --backend-store-uri sqlite:///mlflow.db\n",
    "mlflow.set_tracking_uri(\"sqlite:///mlflow.db\")\n",
    "mlflow.set_experiment(\"Red-Wine-Quality\")"
   ]
  },
  {
   "cell_type": "code",
   "execution_count": 3,
   "id": "be7ba2e7",
   "metadata": {},
   "outputs": [],
   "source": [
    "def get_data():\n",
    "    path = r\"./data/winequality-red.csv\"\n",
    "\n",
    "    try:\n",
    "        data = pd.read_csv(path)\n",
    "        return data \n",
    "    except Exception as e:\n",
    "        raise e"
   ]
  },
  {
   "cell_type": "code",
   "execution_count": 4,
   "id": "635f712d",
   "metadata": {},
   "outputs": [],
   "source": [
    "def evaluate(y,pred):\n",
    "    rmse = np.sqrt(mean_squared_error(y,pred))\n",
    "    mae = mean_absolute_error(y,pred)\n",
    "    r2 = r2_score(y,pred)\n",
    "\n",
    "    return rmse, mae, r2"
   ]
  },
  {
   "cell_type": "code",
   "execution_count": 5,
   "id": "e73384ab",
   "metadata": {},
   "outputs": [],
   "source": [
    "data = get_data()\n",
    "train,test = train_test_split(data,random_state=42)\n",
    "train_x = train.drop([\"quality\"],axis=1)\n",
    "test_x = test.drop([\"quality\"],axis=1)\n",
    "\n",
    "train_y = train[[\"quality\"]]\n",
    "test_y = test[[\"quality\"]]"
   ]
  },
  {
   "cell_type": "code",
   "execution_count": 6,
   "id": "0598195f",
   "metadata": {},
   "outputs": [
    {
     "name": "stderr",
     "output_type": "stream",
     "text": [
      "C:\\Users\\demon\\anaconda3\\Lib\\site-packages\\_distutils_hack\\__init__.py:33: UserWarning: Setuptools is replacing distutils.\n",
      "  warnings.warn(\"Setuptools is replacing distutils.\")\n"
     ]
    },
    {
     "name": "stdout",
     "output_type": "stream",
     "text": [
      "Elastic net Params: alpha: 0.6, l1_ratio: 0.9\n",
      "Elastic net metric: rmse:0.7772257709002306, mae:0.6365170497744915,r2:0.023462653879936957\n"
     ]
    }
   ],
   "source": [
    "alpha=0.6\n",
    "l1_ratio = 0.9\n",
    "\n",
    "with mlflow.start_run():\n",
    "    # specify parameters manually\n",
    "    mlflow.set_tag(\"developer\",\"Alpha_leporis\")\n",
    "    mlflow.set_tag(\"model\",\"elastic-net\")\n",
    "    \n",
    "    mlflow.log_param(\"alpha\",alpha)\n",
    "    mlflow.log_param(\"l1_ratio\",l1_ratio)\n",
    "    \n",
    "    lr = ElasticNet(alpha=alpha, l1_ratio=alpha)\n",
    "    lr.fit(train_x,train_y)\n",
    "\n",
    "    pred = lr.predict(test_x)\n",
    "\n",
    "    rmse,mae,r2 = evaluate(test_y,pred)\n",
    "    \n",
    "    mlflow.log_metric(\"rmse\",rmse)\n",
    "    mlflow.log_metric(\"mae\",mae)\n",
    "    mlflow.log_metric(\"r2\",r2)\n",
    "    \n",
    "    mlflow.sklearn.log_model(lr,\"elastic-net-lr\")\n",
    "\n",
    "\n",
    "    print(f\"Elastic net Params: alpha: {alpha}, l1_ratio: {l1_ratio}\")\n",
    "    print(f\"Elastic net metric: rmse:{rmse}, mae:{mae},r2:{r2}\")"
   ]
  },
  {
   "cell_type": "code",
   "execution_count": 7,
   "id": "ac78fc19",
   "metadata": {},
   "outputs": [
    {
     "name": "stdout",
     "output_type": "stream",
     "text": [
      "Elastic net Params: alpha: 0.6, l1_ratio: 0.9\n",
      "Elastic net metric: rmse:0.7772257709002306, mae:0.6365170497744915,r2:0.023462653879936957\n"
     ]
    }
   ],
   "source": [
    "# enable autologging\n",
    "mlflow.sklearn.autolog()\n",
    "\n",
    "with mlflow.start_run() as run:\n",
    "    lr = ElasticNet(alpha=alpha, l1_ratio=alpha)\n",
    "    lr.fit(train_x,train_y)\n",
    "\n",
    "    pred = lr.predict(test_x)\n",
    "\n",
    "    rmse,mae,r2 = evaluate(test_y,pred)\n",
    "\n",
    "    print(f\"Elastic net Params: alpha: {alpha}, l1_ratio: {l1_ratio}\")\n",
    "    print(f\"Elastic net metric: rmse:{rmse}, mae:{mae},r2:{r2}\")"
   ]
  },
  {
   "cell_type": "markdown",
   "id": "5b80b278",
   "metadata": {},
   "source": [
    "# HYPERPARAMETER TUNING AND TRACKING USING MLFLOW"
   ]
  },
  {
   "cell_type": "code",
   "execution_count": 8,
   "id": "fdc38cad",
   "metadata": {},
   "outputs": [
    {
     "name": "stdout",
     "output_type": "stream",
     "text": [
      "Requirement already satisfied: hyperopt in c:\\users\\demon\\anaconda3\\lib\\site-packages (0.2.7)\n",
      "Requirement already satisfied: numpy in c:\\users\\demon\\anaconda3\\lib\\site-packages (from hyperopt) (1.23.5)\n",
      "Requirement already satisfied: scipy in c:\\users\\demon\\anaconda3\\lib\\site-packages (from hyperopt) (1.11.1)\n",
      "Requirement already satisfied: six in c:\\users\\demon\\anaconda3\\lib\\site-packages (from hyperopt) (1.16.0)\n",
      "Requirement already satisfied: networkx>=2.2 in c:\\users\\demon\\anaconda3\\lib\\site-packages (from hyperopt) (3.1)\n",
      "Requirement already satisfied: future in c:\\users\\demon\\anaconda3\\lib\\site-packages (from hyperopt) (0.18.3)\n",
      "Requirement already satisfied: tqdm in c:\\users\\demon\\anaconda3\\lib\\site-packages (from hyperopt) (4.65.0)\n",
      "Requirement already satisfied: cloudpickle in c:\\users\\demon\\anaconda3\\lib\\site-packages (from hyperopt) (2.2.1)\n",
      "Requirement already satisfied: py4j in c:\\users\\demon\\anaconda3\\lib\\site-packages (from hyperopt) (0.10.9.7)\n",
      "Requirement already satisfied: colorama in c:\\users\\demon\\anaconda3\\lib\\site-packages (from tqdm->hyperopt) (0.4.6)\n"
     ]
    }
   ],
   "source": [
    "!pip install hyperopt"
   ]
  },
  {
   "cell_type": "code",
   "execution_count": 9,
   "id": "ec148ea3",
   "metadata": {},
   "outputs": [],
   "source": [
    "from hyperopt import fmin, tpe, hp, STATUS_OK, Trials\n",
    "from hyperopt.pyll import scope"
   ]
  },
  {
   "cell_type": "code",
   "execution_count": 10,
   "id": "9a735839",
   "metadata": {},
   "outputs": [],
   "source": [
    "def objective(params):\n",
    "    with mlflow.start_run():\n",
    "        mlflow.set_tag(\"developer\",\"Alpha_leporis\")\n",
    "        mlflow.set_tag(\"model\", \"Elasticnet\")\n",
    "        mlflow.log_params(params)\n",
    "        \n",
    "        lr = ElasticNet(**params)\n",
    "        lr.fit(train_x,train_y)\n",
    "\n",
    "        pred = lr.predict(test_x)\n",
    "\n",
    "        rmse,mae,r2 = evaluate(test_y,pred)\n",
    "        mlflow.log_metric(\"rmse\", rmse)\n",
    "        mlflow.log_metric(\"mae\",mae)\n",
    "        mlflow.log_metric(\"r2\",r2)\n",
    "\n",
    "    return {'loss': rmse, 'status': STATUS_OK}"
   ]
  },
  {
   "cell_type": "code",
   "execution_count": 11,
   "id": "6e394bb2",
   "metadata": {},
   "outputs": [],
   "source": [
    "search_space = { \"alpha\": hp.loguniform('alpha',0.01,1),\n",
    "                  \"l1_ratio\": hp.uniform('l1_ratio',0,1)}"
   ]
  },
  {
   "cell_type": "code",
   "execution_count": 12,
   "id": "960f2957",
   "metadata": {},
   "outputs": [
    {
     "name": "stdout",
     "output_type": "stream",
     "text": [
      "100%|██████████████████████████████████████████████████████████████████████████████████████████████████████████████████| 4/4 [00:52<00:00, 13.11s/trial, best loss: 0.7198553201306017]\n"
     ]
    }
   ],
   "source": [
    "best_result = fmin(\n",
    "    fn=objective,\n",
    "    space=search_space,\n",
    "    algo=tpe.suggest,\n",
    "    max_evals=4,\n",
    "    trials=Trials()\n",
    ")"
   ]
  },
  {
   "cell_type": "code",
   "execution_count": 13,
   "id": "8182d412",
   "metadata": {},
   "outputs": [],
   "source": [
    "params= {\"alpha\":1.43098798581676,\n",
    "\"copy_X\":True,\n",
    "\"fit_intercept\":True,\n",
    "\"l1_ratio\":0.003137093485394149,\n",
    "\"max_iter\":1000,\n",
    "\"normalize\":\"deprecated\",\n",
    "\"positive\":False,\n",
    "\"precompute\":False,\n",
    "\"random_state\":None,\n",
    "\"selection\":\"cyclic\",\n",
    "\"tol\":0.0001,\n",
    "\"warm_start\":False}"
   ]
  },
  {
   "cell_type": "code",
   "execution_count": 16,
   "id": "b9e6e6b3",
   "metadata": {},
   "outputs": [
    {
     "ename": "TypeError",
     "evalue": "ElasticNet.__init__() got an unexpected keyword argument 'normalize'",
     "output_type": "error",
     "traceback": [
      "\u001b[1;31m---------------------------------------------------------------------------\u001b[0m",
      "\u001b[1;31mTypeError\u001b[0m                                 Traceback (most recent call last)",
      "Cell \u001b[1;32mIn[16], line 4\u001b[0m\n\u001b[0;32m      2\u001b[0m mlflow\u001b[38;5;241m.\u001b[39msklearn\u001b[38;5;241m.\u001b[39mautolog()\n\u001b[0;32m      3\u001b[0m \u001b[38;5;28;01mwith\u001b[39;00m mlflow\u001b[38;5;241m.\u001b[39mstart_run() :\n\u001b[1;32m----> 4\u001b[0m     lr \u001b[38;5;241m=\u001b[39m ElasticNet(\u001b[38;5;241m*\u001b[39m\u001b[38;5;241m*\u001b[39mparams)\n\u001b[0;32m      5\u001b[0m     lr\u001b[38;5;241m.\u001b[39mfit(train_x,train_y)\n\u001b[0;32m      7\u001b[0m     pred \u001b[38;5;241m=\u001b[39m lr\u001b[38;5;241m.\u001b[39mpredict(test_x)\n",
      "\u001b[1;31mTypeError\u001b[0m: ElasticNet.__init__() got an unexpected keyword argument 'normalize'"
     ]
    }
   ],
   "source": [
    "# enable autologging\n",
    "mlflow.sklearn.autolog()\n",
    "with mlflow.start_run() :\n",
    "    lr = ElasticNet(**params)\n",
    "    lr.fit(train_x,train_y)\n",
    "\n",
    "    pred = lr.predict(test_x)\n",
    "\n",
    "    rmse,mae,r2 = evaluate(test_y,pred)\n",
    "\n",
    "    print(f\"Elastic net Params: alpha: {alpha}, l1_ratio: {l1_ratio}\")\n",
    "    print(f\"Elastic net metric: rmse:{rmse}, mae:{mae},r2:{r2}\")"
   ]
  },
  {
   "cell_type": "code",
   "execution_count": 15,
   "id": "03e0fcc7",
   "metadata": {},
   "outputs": [
    {
     "name": "stdout",
     "output_type": "stream",
     "text": [
      "Requirement already satisfied: threadpoolctl==3.1.0 in c:\\users\\demon\\anaconda3\\lib\\site-packages (3.1.0)\n"
     ]
    }
   ],
   "source": [
    "!pip install threadpoolctl==3.1.0"
   ]
  },
  {
   "cell_type": "markdown",
   "id": "78fa41ba",
   "metadata": {},
   "source": [
    "# Model Registry"
   ]
  },
  {
   "cell_type": "code",
   "execution_count": 19,
   "id": "06e15f43",
   "metadata": {},
   "outputs": [],
   "source": [
    "from mlflow.tracking import MlflowClient\n",
    "MLFLOW_TRACKING_URI = \"sqlite:///mlflow.db\""
   ]
  },
  {
   "cell_type": "markdown",
   "id": "f1edd019",
   "metadata": {},
   "source": [
    "## Interacting with MLflow Tracking Server to extract run ids with higher accuracy"
   ]
  },
  {
   "cell_type": "code",
   "execution_count": 23,
   "id": "070f0a13",
   "metadata": {},
   "outputs": [
    {
     "data": {
      "text/plain": [
       "[<Experiment: artifact_location='file:///c:/Users/demon/Desktop/projects/MLflow/mlruns/1', creation_time=1712926810483, experiment_id='1', last_update_time=1712926810483, lifecycle_stage='active', name='Red-Wine-Quality', tags={}>,\n",
       " <Experiment: artifact_location='mlflow-artifacts:/0', creation_time=1712926260353, experiment_id='0', last_update_time=1712926260353, lifecycle_stage='active', name='Default', tags={}>]"
      ]
     },
     "execution_count": 23,
     "metadata": {},
     "output_type": "execute_result"
    }
   ],
   "source": [
    "client = MlflowClient(tracking_uri=MLFLOW_TRACKING_URI)\n",
    "\n",
    "client.search_experiments()"
   ]
  },
  {
   "cell_type": "code",
   "execution_count": 24,
   "id": "6527fd64",
   "metadata": {},
   "outputs": [],
   "source": [
    "from mlflow.entities import ViewType\n",
    "\n",
    "runs = client.search_runs(\n",
    "    experiment_ids='1',\n",
    "    filter_string=\"metrics.rmse >0.77\",\n",
    "    run_view_type=ViewType.ACTIVE_ONLY,\n",
    "    max_results=5,\n",
    "    order_by=[\"metrics.rmse DESC\"]\n",
    ")"
   ]
  },
  {
   "cell_type": "code",
   "execution_count": 25,
   "id": "ecd331dc",
   "metadata": {},
   "outputs": [
    {
     "name": "stdout",
     "output_type": "stream",
     "text": [
      "run id: 38c39e914fd34fab809d887265a941c4, rmse: 0.7848\n",
      "run id: 11ff1a28960f42a0a7430a6d64e3374b, rmse: 0.7843\n",
      "run id: aff9a98bf67143f3ae9e4d35b858d8ee, rmse: 0.7827\n",
      "run id: 058712122be0459ebfc13ee70cbc2b0b, rmse: 0.7772\n"
     ]
    }
   ],
   "source": [
    "for run in runs:\n",
    "    print(f\"run id: {run.info.run_id}, rmse: {run.data.metrics['rmse']:.4f}\")"
   ]
  },
  {
   "cell_type": "markdown",
   "id": "0a53994d",
   "metadata": {},
   "source": [
    "## Interacting with the Model Registry"
   ]
  },
  {
   "cell_type": "code",
   "execution_count": 26,
   "id": "f0a815af",
   "metadata": {},
   "outputs": [
    {
     "name": "stderr",
     "output_type": "stream",
     "text": [
      "Registered model 'wine_quality' already exists. Creating a new version of this model...\n",
      "Created version '3' of model 'wine_quality'.\n"
     ]
    },
    {
     "data": {
      "text/plain": [
       "<ModelVersion: aliases=[], creation_timestamp=1712930125793, current_stage='None', description=None, last_updated_timestamp=1712930125793, name='wine_quality', run_id='38c39e914fd34fab809d887265a941c4', run_link=None, source='file:///c:/Users/demon/Desktop/projects/MLflow/mlruns/1/38c39e914fd34fab809d887265a941c4/artifacts/model', status='READY', status_message=None, tags={}, user_id=None, version=3>"
      ]
     },
     "execution_count": 26,
     "metadata": {},
     "output_type": "execute_result"
    }
   ],
   "source": [
    "mlflow.set_tracking_uri(MLFLOW_TRACKING_URI)\n",
    "\n",
    "run_id = \"38c39e914fd34fab809d887265a941c4\"\n",
    "model_uri = f\"runs:/{run_id}/model\"\n",
    "mlflow.register_model(model_uri=model_uri, name=\"wine_quality\")"
   ]
  },
  {
   "cell_type": "code",
   "execution_count": 28,
   "id": "ec1b84f4",
   "metadata": {},
   "outputs": [
    {
     "name": "stdout",
     "output_type": "stream",
     "text": [
      "version: 1, stage: Production\n",
      "version: 2, stage: Staging\n",
      "version: 3, stage: None\n"
     ]
    },
    {
     "name": "stderr",
     "output_type": "stream",
     "text": [
      "C:\\Users\\demon\\AppData\\Local\\Temp\\ipykernel_14092\\3188201346.py:2: FutureWarning: ``mlflow.tracking.client.MlflowClient.get_latest_versions`` is deprecated since 2.9.0. Model registry stages will be removed in a future major release. To learn more about the deprecation of model registry stages, see our migration guide here: https://mlflow.org/docs/2.11.3/model-registry.html#migrating-from-stages\n",
      "  latest_versions = client.get_latest_versions(name=model_name)\n"
     ]
    }
   ],
   "source": [
    "model_name = \"wine_quality\"\n",
    "latest_versions = client.get_latest_versions(name=model_name)\n",
    "\n",
    "for version in latest_versions:\n",
    "    print(f\"version: {version.version}, stage: {version.current_stage}\")\n"
   ]
  },
  {
   "cell_type": "code",
   "execution_count": 29,
   "id": "a357b654",
   "metadata": {},
   "outputs": [
    {
     "name": "stderr",
     "output_type": "stream",
     "text": [
      "C:\\Users\\demon\\AppData\\Local\\Temp\\ipykernel_14092\\2283771602.py:3: FutureWarning: ``mlflow.tracking.client.MlflowClient.transition_model_version_stage`` is deprecated since 2.9.0. Model registry stages will be removed in a future major release. To learn more about the deprecation of model registry stages, see our migration guide here: https://mlflow.org/docs/2.11.3/model-registry.html#migrating-from-stages\n",
      "  client.transition_model_version_stage(\n"
     ]
    },
    {
     "data": {
      "text/plain": [
       "<ModelVersion: aliases=[], creation_timestamp=1712930125793, current_stage='Production', description=None, last_updated_timestamp=1712931810169, name='wine_quality', run_id='38c39e914fd34fab809d887265a941c4', run_link=None, source='file:///c:/Users/demon/Desktop/projects/MLflow/mlruns/1/38c39e914fd34fab809d887265a941c4/artifacts/model', status='READY', status_message=None, tags={}, user_id=None, version=3>"
      ]
     },
     "execution_count": 29,
     "metadata": {},
     "output_type": "execute_result"
    }
   ],
   "source": [
    "model_version = 3\n",
    "new_stage = \"Production\"\n",
    "client.transition_model_version_stage(\n",
    "    name=model_name,\n",
    "    version=model_version,\n",
    "    stage=new_stage,\n",
    "    archive_existing_versions=True\n",
    ")"
   ]
  },
  {
   "cell_type": "code",
   "execution_count": 30,
   "id": "616921ad",
   "metadata": {},
   "outputs": [
    {
     "name": "stdout",
     "output_type": "stream",
     "text": [
      "version: 1, stage: Archived\n",
      "version: 2, stage: Staging\n",
      "version: 3, stage: Production\n"
     ]
    },
    {
     "name": "stderr",
     "output_type": "stream",
     "text": [
      "C:\\Users\\demon\\AppData\\Local\\Temp\\ipykernel_14092\\903862215.py:2: FutureWarning: ``mlflow.tracking.client.MlflowClient.get_latest_versions`` is deprecated since 2.9.0. Model registry stages will be removed in a future major release. To learn more about the deprecation of model registry stages, see our migration guide here: https://mlflow.org/docs/2.11.3/model-registry.html#migrating-from-stages\n",
      "  latest_versions = client.get_latest_versions(name=model_name)\n"
     ]
    }
   ],
   "source": [
    "model_name = \"wine_quality\"\n",
    "latest_versions = client.get_latest_versions(name=model_name)\n",
    "\n",
    "for version in latest_versions:\n",
    "    print(f\"version: {version.version}, stage: {version.current_stage}\")"
   ]
  },
  {
   "cell_type": "markdown",
   "id": "ca1b72b8",
   "metadata": {},
   "source": [
    "## TEST THE MODEL IN PRODUCTION"
   ]
  },
  {
   "cell_type": "code",
   "execution_count": 31,
   "id": "6e99e6a7",
   "metadata": {},
   "outputs": [],
   "source": [
    "df = get_data()\n",
    "train,test = train_test_split(df,random_state=42)\n",
    "train_x = train.drop([\"quality\"],axis=1)\n",
    "test_x = test.drop([\"quality\"],axis=1)\n",
    "\n",
    "train_y = train[[\"quality\"]]\n",
    "test_y = test[[\"quality\"]]"
   ]
  },
  {
   "cell_type": "code",
   "execution_count": 32,
   "id": "3e1706a9",
   "metadata": {},
   "outputs": [],
   "source": [
    "def test_model(name, stage, X_test, y_test):\n",
    "    model = mlflow.pyfunc.load_model(f\"models:/{name}/{stage}\")\n",
    "    y_pred = model.predict(X_test)\n",
    "    return {\"rmse\": mean_squared_error(y_test, y_pred, squared=False)}"
   ]
  },
  {
   "cell_type": "code",
   "execution_count": 33,
   "id": "e2148d34",
   "metadata": {},
   "outputs": [
    {
     "name": "stderr",
     "output_type": "stream",
     "text": [
      "C:\\Users\\demon\\anaconda3\\Lib\\site-packages\\mlflow\\store\\artifact\\utils\\models.py:32: FutureWarning: ``mlflow.tracking.client.MlflowClient.get_latest_versions`` is deprecated since 2.9.0. Model registry stages will be removed in a future major release. To learn more about the deprecation of model registry stages, see our migration guide here: https://mlflow.org/docs/2.11.3/model-registry.html#migrating-from-stages\n",
      "  latest = client.get_latest_versions(name, None if stage is None else [stage])\n"
     ]
    },
    {
     "data": {
      "text/plain": [
       "{'rmse': 0.7847866179645888}"
      ]
     },
     "execution_count": 33,
     "metadata": {},
     "output_type": "execute_result"
    }
   ],
   "source": [
    "test_model(name=model_name, stage=\"Production\", X_test=test_x, y_test=test_y)"
   ]
  },
  {
   "cell_type": "code",
   "execution_count": 34,
   "id": "54c95e2e",
   "metadata": {},
   "outputs": [
    {
     "name": "stderr",
     "output_type": "stream",
     "text": [
      "C:\\Users\\demon\\anaconda3\\Lib\\site-packages\\mlflow\\store\\artifact\\utils\\models.py:32: FutureWarning: ``mlflow.tracking.client.MlflowClient.get_latest_versions`` is deprecated since 2.9.0. Model registry stages will be removed in a future major release. To learn more about the deprecation of model registry stages, see our migration guide here: https://mlflow.org/docs/2.11.3/model-registry.html#migrating-from-stages\n",
      "  latest = client.get_latest_versions(name, None if stage is None else [stage])\n"
     ]
    },
    {
     "data": {
      "text/plain": [
       "{'rmse': 0.7198553201306017}"
      ]
     },
     "execution_count": 34,
     "metadata": {},
     "output_type": "execute_result"
    }
   ],
   "source": [
    "test_model(name=model_name, stage=\"Archived\", X_test=test_x, y_test=test_y)"
   ]
  },
  {
   "cell_type": "code",
   "execution_count": 35,
   "id": "1ce8908a",
   "metadata": {},
   "outputs": [
    {
     "name": "stderr",
     "output_type": "stream",
     "text": [
      "C:\\Users\\demon\\anaconda3\\Lib\\site-packages\\mlflow\\store\\artifact\\utils\\models.py:32: FutureWarning: ``mlflow.tracking.client.MlflowClient.get_latest_versions`` is deprecated since 2.9.0. Model registry stages will be removed in a future major release. To learn more about the deprecation of model registry stages, see our migration guide here: https://mlflow.org/docs/2.11.3/model-registry.html#migrating-from-stages\n",
      "  latest = client.get_latest_versions(name, None if stage is None else [stage])\n"
     ]
    },
    {
     "data": {
      "text/plain": [
       "{'rmse': 0.7827079766841751}"
      ]
     },
     "execution_count": 35,
     "metadata": {},
     "output_type": "execute_result"
    }
   ],
   "source": [
    "test_model(name=model_name, stage=\"Staging\", X_test=test_x, y_test=test_y)"
   ]
  }
 ],
 "metadata": {
  "kernelspec": {
   "display_name": "Python 3 (ipykernel)",
   "language": "python",
   "name": "python3"
  },
  "language_info": {
   "codemirror_mode": {
    "name": "ipython",
    "version": 3
   },
   "file_extension": ".py",
   "mimetype": "text/x-python",
   "name": "python",
   "nbconvert_exporter": "python",
   "pygments_lexer": "ipython3",
   "version": "3.11.5"
  }
 },
 "nbformat": 4,
 "nbformat_minor": 5
}
